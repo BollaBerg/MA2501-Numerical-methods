{
 "cells": [
  {
   "cell_type": "markdown",
   "metadata": {},
   "source": [
    "# Project 3\n",
    "Members:\n",
    " - Andreas Bjelland Berg"
   ]
  },
  {
   "cell_type": "code",
   "execution_count": 20,
   "metadata": {},
   "outputs": [],
   "source": [
    "from typing import Callable\n",
    "\n",
    "import matplotlib.pyplot as plt\n",
    "import numpy as np"
   ]
  },
  {
   "cell_type": "markdown",
   "metadata": {},
   "source": [
    "## Problem 1\n",
    "*In this problem, we want to approximate an integral*\n",
    "$$\n",
    "    I(f) = \\int_0^1 f(x) dx\n",
    "$$\n",
    "*by Romberg's method $T_{m, 2}$ with number of function evaluations being $2^{m + 1} + 1$ for natural number $m$*"
   ]
  },
  {
   "cell_type": "markdown",
   "metadata": {},
   "source": [
    "### Problem 1.1\n",
    "*Implement your own code which calculates quadrature values using Romberg's method. For a function $f_1(x) = e^{-x}$, at least how many numbers of points do you need to achieve the absolute error $|I(f_1) - T_{m, 2}|$ smaller than $10^{-8}$?*"
   ]
  },
  {
   "cell_type": "markdown",
   "metadata": {},
   "source": [
    "First, observe that by simple mathematics, we get\n",
    "$$\n",
    "    I(f_1) = \\int_0^1 e^{-x} dx = 1 - \\frac{1}{e}\n",
    "$$\n",
    "\n",
    "Observe also that $f_1$ is infinitely derivable, and is continuous on $[0, 1]$."
   ]
  },
  {
   "cell_type": "code",
   "execution_count": 21,
   "metadata": {},
   "outputs": [],
   "source": [
    "integral_f1 = 1 - 1 / np.exp(1)"
   ]
  },
  {
   "cell_type": "code",
   "execution_count": 22,
   "metadata": {},
   "outputs": [],
   "source": [
    "def f1(x: float) -> float:\n",
    "    return np.exp(-x)"
   ]
  },
  {
   "cell_type": "code",
   "execution_count": 29,
   "metadata": {},
   "outputs": [],
   "source": [
    "def trapezoid(f: Callable, m: int, a: int, b: int):\n",
    "    \"\"\"Estimate the integral of function f using the Trapezoidal method\n",
    "\n",
    "    Args:\n",
    "        f (Callable): Function to apply Trapezoidal method to\n",
    "        m (int): Number of equally spaced points\n",
    "        a (int): Start of domain\n",
    "        b (int): End of domain\n",
    "\n",
    "    Returns:\n",
    "        _type_: _description_\n",
    "    \"\"\"\n",
    "    if m == 0:\n",
    "        delta = (b - a)\n",
    "    else:\n",
    "        delta = (b - a) / m\n",
    "    x_list = np.linspace(a, b, num=m+1)\n",
    "\n",
    "    sum_ = 0\n",
    "    for x in x_list[1: -1]:\n",
    "        sum_ += f(x)\n",
    "    sum_ += (f(x_list[0]) + f(x_list[-1])) / 2\n",
    "    \n",
    "    return delta * sum_\n",
    "\n",
    "def rombergs(f: Callable, m: int, k: int = 2, a: int = 0, b: int = 1):\n",
    "    \"\"\"Apply Romberg's method T_{m, n} on function f\n",
    "\n",
    "    Args:\n",
    "        f (Callable): Function to apply Romberg's to\n",
    "        m (int): Base for number of function evaluations. Evaluations are \n",
    "            2^{m + 1} + 1\n",
    "        k (int, optional): Number of recursive steps to apply. Defaults to 2.\n",
    "        a (int, optional): Start of domain. Defaults to 0\n",
    "        b (int, optional): End of domain. Defaults to 1\n",
    "    \"\"\"\n",
    "    if k == 0:\n",
    "        return trapezoid(f, m, a, b)\n",
    "    \n",
    "    return (\n",
    "        (4**k\n",
    "            * rombergs(f, 2*m, k - 1, a, b)\n",
    "            - rombergs(f, m, k - 1))\n",
    "        / (4**k - 1)\n",
    "    )"
   ]
  },
  {
   "cell_type": "code",
   "execution_count": 30,
   "metadata": {},
   "outputs": [
    {
     "name": "stdout",
     "output_type": "stream",
     "text": [
      "Error for m=0 (3 evaluations): 0.36787944117144233\n",
      "Error for m=1 (5 evaluations): 3.1617976581355123e-07\n",
      "Error for m=2 (9 evaluations): 5.061798757921565e-09\n",
      "Error passed treshold 1e-08 at m=2 (9 evaluations)\n"
     ]
    }
   ],
   "source": [
    "treshold = 1e-8\n",
    "\n",
    "m = 0\n",
    "while True:\n",
    "    romberg_estimate = rombergs(f1, m, k=2, a=0, b=1)\n",
    "\n",
    "    error = np.abs(integral_f1 - romberg_estimate)\n",
    "\n",
    "    print(f\"Error for m={m} ({2**(m+1)+1} evaluations): {error}\")\n",
    "    if error < treshold:\n",
    "        print(f\"Error passed treshold {treshold} at m={m} ({2**(m+1)+1} evaluations)\")\n",
    "        break\n",
    "\n",
    "    m += 1"
   ]
  },
  {
   "cell_type": "markdown",
   "metadata": {},
   "source": [
    "### Problem 1.2\n",
    "*Consider another integrand function $f_2(x) = e^{-|x - 1/2|}$. At least how many numbers of points do you need to achieve the absolute error smaller than $10^{-4}$?*"
   ]
  },
  {
   "cell_type": "markdown",
   "metadata": {},
   "source": [
    "Once again, observe first that\n",
    "$$\n",
    "    I(f_2) = \\int_0^1 e^{-|x - 1/2|} dx = \\frac{-2}{\\sqrt{e}} + 2\n",
    "$$"
   ]
  },
  {
   "cell_type": "code",
   "execution_count": 31,
   "metadata": {},
   "outputs": [],
   "source": [
    "integral_f2 = -2 / np.sqrt(np.exp(1)) + 2"
   ]
  },
  {
   "cell_type": "code",
   "execution_count": 33,
   "metadata": {},
   "outputs": [],
   "source": [
    "def f2(x: float) -> float:\n",
    "    return np.exp(- np.abs(x - 0.5))"
   ]
  },
  {
   "cell_type": "code",
   "execution_count": 34,
   "metadata": {},
   "outputs": [
    {
     "name": "stdout",
     "output_type": "stream",
     "text": [
      "Error for m=0 (3 evaluations): 0.18040802086209973\n",
      "Error for m=1 (5 evaluations): 0.005442243324213392\n",
      "Error for m=2 (9 evaluations): 6.301527410990104e-09\n",
      "Error passed treshold 0.0001 at m=2 (9 evaluations)\n"
     ]
    }
   ],
   "source": [
    "treshold = 1e-4\n",
    "\n",
    "m = 0\n",
    "while True:\n",
    "    romberg_estimate = rombergs(f2, m, k=2, a=0, b=1)\n",
    "\n",
    "    error = np.abs(integral_f2 - romberg_estimate)\n",
    "\n",
    "    print(f\"Error for m={m} ({2**(m+1)+1} evaluations): {error}\")\n",
    "    if error < treshold:\n",
    "        print(f\"Error passed treshold {treshold} at m={m} ({2**(m+1)+1} evaluations)\")\n",
    "        break\n",
    "\n",
    "    m += 1"
   ]
  },
  {
   "cell_type": "markdown",
   "metadata": {},
   "source": [
    "### Problem 1.3\n",
    "*Using the Gauss-Legendre quadrature, which is a Gaussian quadrature with the weight function $w(x) = 1$ on $[0, 1]$, at least how many numbers of points do you need to achieve the absolute error smaller than $10^{-8}$ for $f_1$? The same question for $f_2$ to achieve the absolute error smaller than $10^{-4}$.*\n",
    "\n",
    "*In this sub-problem, you can use existing libraries for Gauss-Legendre quadrature such as `numpy.polynomial.legendre.leggaus`*"
   ]
  },
  {
   "cell_type": "code",
   "execution_count": 58,
   "metadata": {},
   "outputs": [],
   "source": [
    "def gauss_legendre(f: Callable, m: int, a: int, b: int) -> float:\n",
    "    x_list, weights = np.polynomial.legendre.leggauss(m)\n",
    "    # Shift x-points to be in [a, b] instead of default [-1, 1]\n",
    "    shifted_x = (\n",
    "        0.5                 # Scale to [-0.5, 0.5]\n",
    "            * (x_list + 1)  # Shift to [0, 1]\n",
    "            * (b - a)         # Shift to [0, (b-a)]\n",
    "        + a)                # Shift to [a, b]\n",
    "\n",
    "    return sum(\n",
    "        [weight * f(x) for weight, x in zip(weights, shifted_x)]\n",
    "    ) * 0.5 * (b - a)       # Need to scale the quadrature formula too "
   ]
  },
  {
   "cell_type": "markdown",
   "metadata": {},
   "source": [
    "#### f1"
   ]
  },
  {
   "cell_type": "code",
   "execution_count": 63,
   "metadata": {},
   "outputs": [
    {
     "name": "stdout",
     "output_type": "stream",
     "text": [
      "Error for m=1: 0.02558989911592424\n",
      "Error for m=2: 0.00014179929671220837\n",
      "Error for m=3: 3.031644896234198e-07\n",
      "Error for m=4: 3.432196749031391e-10\n",
      "Error passed treshold 1e-08 at m=4\n"
     ]
    }
   ],
   "source": [
    "treshold = 1e-8\n",
    "\n",
    "m = 1\n",
    "while True:\n",
    "    gauss_legendre_estimate = gauss_legendre(f1, m, a=0, b=1)\n",
    "\n",
    "    error = np.abs(integral_f1 - gauss_legendre_estimate)\n",
    "\n",
    "    print(f\"Error for m={m}: {error}\")\n",
    "    if error < treshold:\n",
    "        print(f\"Error passed treshold {treshold} at m={m}\")\n",
    "        break\n",
    "\n",
    "    m += 1"
   ]
  },
  {
   "cell_type": "markdown",
   "metadata": {},
   "source": [
    "#### f2"
   ]
  },
  {
   "cell_type": "code",
   "execution_count": 64,
   "metadata": {},
   "outputs": [
    {
     "name": "stdout",
     "output_type": "stream",
     "text": [
      "Error for m=1: 0.21306131942526685\n",
      "Error for m=2: 0.03768310748973558\n",
      "Error for m=3: 0.03466605762534214\n",
      "Error for m=4: 0.010587330175454657\n",
      "Error for m=5: 0.013765995217472793\n",
      "Error for m=6: 0.004964227020994083\n",
      "Error for m=7: 0.007359555828410191\n",
      "Error for m=8: 0.002878988260852644\n",
      "Error for m=9: 0.004575384819653139\n",
      "Error for m=10: 0.0018791520579409804\n",
      "Error for m=11: 0.0031182244913130486\n",
      "Error for m=12: 0.0013229740601868878\n",
      "Error for m=13: 0.002260999010056941\n",
      "Error for m=14: 0.000981838273164004\n",
      "Error for m=15: 0.0017143175247024134\n",
      "Error for m=16: 0.0007575586317827288\n",
      "Error for m=17: 0.00134441854581413\n",
      "Error for m=18: 0.0006022393961538919\n",
      "Error for m=19: 0.0010825288445107661\n",
      "Error for m=20: 0.0004902403106687991\n",
      "Error for m=21: 0.0008903424186633702\n",
      "Error for m=22: 0.0004068232526099891\n",
      "Error for m=23: 0.0007451468096525415\n",
      "Error for m=24: 0.00034302596590263246\n",
      "Error for m=25: 0.0006327812051626358\n",
      "Error for m=26: 0.0002931433933264227\n",
      "Error for m=27: 0.0005440440867239271\n",
      "Error for m=28: 0.00025340347988767054\n",
      "Error for m=29: 0.0004727459073525786\n",
      "Error for m=30: 0.00022123115783323488\n",
      "Error for m=31: 0.0004145988940607026\n",
      "Error for m=32: 0.00019481976115776067\n",
      "Error for m=33: 0.00036655655845208024\n",
      "Error for m=34: 0.0001728713832556128\n",
      "Error for m=35: 0.0003264061462893153\n",
      "Error for m=36: 0.00015443412893367814\n",
      "Error for m=37: 0.00029250907989930575\n",
      "Error for m=38: 0.0001387970287280993\n",
      "Error for m=39: 0.00026363101207049766\n",
      "Error for m=40: 0.00012542039249852088\n",
      "Error for m=41: 0.0002388277993030652\n",
      "Error for m=42: 0.0001138885715099569\n",
      "Error for m=43: 0.0002173673122322084\n",
      "Error for m=44: 0.00010387725147409377\n",
      "Error for m=45: 0.0001986747652983345\n",
      "Error for m=46: 9.513038324726608e-05\n",
      "Error passed treshold 0.0001 at m=46\n"
     ]
    }
   ],
   "source": [
    "treshold = 1e-4\n",
    "\n",
    "m = 1\n",
    "while True:\n",
    "    gauss_legendre_estimate = gauss_legendre(f2, m, a=0, b=1)\n",
    "\n",
    "    error = np.abs(integral_f2 - gauss_legendre_estimate)\n",
    "\n",
    "    print(f\"Error for m={m}: {error}\")\n",
    "    if error < treshold:\n",
    "        print(f\"Error passed treshold {treshold} at m={m}\")\n",
    "        break\n",
    "\n",
    "    m += 1"
   ]
  }
 ],
 "metadata": {
  "interpreter": {
   "hash": "a7e22f8db856ad4ec1d36a9c6f82b1e2dec0c46f11bded6b7330e952db637296"
  },
  "kernelspec": {
   "display_name": "Python 3.10.4 ('venv': venv)",
   "language": "python",
   "name": "python3"
  },
  "language_info": {
   "codemirror_mode": {
    "name": "ipython",
    "version": 3
   },
   "file_extension": ".py",
   "mimetype": "text/x-python",
   "name": "python",
   "nbconvert_exporter": "python",
   "pygments_lexer": "ipython3",
   "version": "3.10.4"
  },
  "orig_nbformat": 4
 },
 "nbformat": 4,
 "nbformat_minor": 2
}
