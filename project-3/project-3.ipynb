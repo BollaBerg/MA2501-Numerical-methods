{
 "cells": [
  {
   "cell_type": "markdown",
   "metadata": {},
   "source": [
    "# Project 3\n",
    "Members:\n",
    " - Andreas Bjelland Berg"
   ]
  },
  {
   "cell_type": "code",
   "execution_count": 20,
   "metadata": {},
   "outputs": [],
   "source": [
    "from typing import Callable\n",
    "\n",
    "import matplotlib.pyplot as plt\n",
    "import numpy as np"
   ]
  },
  {
   "cell_type": "markdown",
   "metadata": {},
   "source": [
    "## Problem 1\n",
    "*In this problem, we want to approximate an integral*\n",
    "$$\n",
    "    I(f) = \\int_0^1 f(x) dx\n",
    "$$\n",
    "*by Romberg's method $T_{m, 2}$ with number of function evaluations being $2^{m + 1} + 1$ for natural number $m$*"
   ]
  },
  {
   "cell_type": "markdown",
   "metadata": {},
   "source": [
    "### Problem 1.1\n",
    "*Implement your own code which calculates quadrature values using Romberg's method. For a function $f_1(x) = e^{-x}$, at least how many numbers of points do you need to achieve the absolute error $|I(f_1) - T_{m, 2}|$ smaller than $10^{-8}$?*"
   ]
  },
  {
   "cell_type": "markdown",
   "metadata": {},
   "source": [
    "First, observe that by simple mathematics, we get\n",
    "$$\n",
    "    I(f_1) = \\int_0^1 e^{-x} dx = 1 - \\frac{1}{e}\n",
    "$$\n",
    "\n",
    "Observe also that $f_1$ is infinitely derivable, and is continuous on $[0, 1]$."
   ]
  },
  {
   "cell_type": "code",
   "execution_count": 21,
   "metadata": {},
   "outputs": [],
   "source": [
    "integral_f1 = 1 - 1 / np.exp(1)"
   ]
  },
  {
   "cell_type": "code",
   "execution_count": 22,
   "metadata": {},
   "outputs": [],
   "source": [
    "def f1(x: float) -> float:\n",
    "    return np.exp(-x)"
   ]
  },
  {
   "cell_type": "code",
   "execution_count": 29,
   "metadata": {},
   "outputs": [],
   "source": [
    "def trapezoid(f: Callable, m: int, a: int, b: int):\n",
    "    \"\"\"Estimate the integral of function f using the Trapezoidal method\n",
    "\n",
    "    Args:\n",
    "        f (Callable): Function to apply Trapezoidal method to\n",
    "        m (int): Number of equally spaced points\n",
    "        a (int): Start of domain\n",
    "        b (int): End of domain\n",
    "\n",
    "    Returns:\n",
    "        _type_: _description_\n",
    "    \"\"\"\n",
    "    if m == 0:\n",
    "        delta = (b - a)\n",
    "    else:\n",
    "        delta = (b - a) / m\n",
    "    x_list = np.linspace(a, b, num=m+1)\n",
    "\n",
    "    sum_ = 0\n",
    "    for x in x_list[1: -1]:\n",
    "        sum_ += f(x)\n",
    "    sum_ += (f(x_list[0]) + f(x_list[-1])) / 2\n",
    "    \n",
    "    return delta * sum_\n",
    "\n",
    "def rombergs(f: Callable, m: int, k: int = 2, a: int = 0, b: int = 1):\n",
    "    \"\"\"Apply Romberg's method T_{m, n} on function f\n",
    "\n",
    "    Args:\n",
    "        f (Callable): Function to apply Romberg's to\n",
    "        m (int): Base for number of function evaluations. Evaluations are \n",
    "            2^{m + 1} + 1\n",
    "        k (int, optional): Number of recursive steps to apply. Defaults to 2.\n",
    "        a (int, optional): Start of domain. Defaults to 0\n",
    "        b (int, optional): End of domain. Defaults to 1\n",
    "    \"\"\"\n",
    "    if k == 0:\n",
    "        return trapezoid(f, m, a, b)\n",
    "    \n",
    "    return (\n",
    "        (4**k\n",
    "            * rombergs(f, 2*m, k - 1, a, b)\n",
    "            - rombergs(f, m, k - 1))\n",
    "        / (4**k - 1)\n",
    "    )"
   ]
  },
  {
   "cell_type": "code",
   "execution_count": 30,
   "metadata": {},
   "outputs": [
    {
     "name": "stdout",
     "output_type": "stream",
     "text": [
      "Error for m=0 (3 evaluations): 0.36787944117144233\n",
      "Error for m=1 (5 evaluations): 3.1617976581355123e-07\n",
      "Error for m=2 (9 evaluations): 5.061798757921565e-09\n",
      "Error passed treshold 1e-08 at m=2 (9 evaluations)\n"
     ]
    }
   ],
   "source": [
    "treshold = 1e-8\n",
    "\n",
    "m = 0\n",
    "while True:\n",
    "    romberg_estimate = rombergs(f1, m, k=2, a=0, b=1)\n",
    "\n",
    "    error = np.abs(integral_f1 - romberg_estimate)\n",
    "\n",
    "    print(f\"Error for m={m} ({2**(m+1)+1} evaluations): {error}\")\n",
    "    if error < treshold:\n",
    "        print(f\"Error passed treshold {treshold} at m={m} ({2**(m+1)+1} evaluations)\")\n",
    "        break\n",
    "\n",
    "    m += 1"
   ]
  },
  {
   "cell_type": "markdown",
   "metadata": {},
   "source": [
    "### Problem 1.2\n",
    "*Consider another integrand function $f_2(x) = e^{-|x - 1/2|}$. At least how many numbers of points do you need to achieve the absolute error smaller than $10^{-4}$?*"
   ]
  },
  {
   "cell_type": "markdown",
   "metadata": {},
   "source": [
    "Once again, observe first that\n",
    "$$\n",
    "    I(f_2) = \\int_0^1 e^{-|x - 1/2|} dx = \\frac{-2}{\\sqrt{e}} + 2\n",
    "$$"
   ]
  },
  {
   "cell_type": "code",
   "execution_count": 31,
   "metadata": {},
   "outputs": [],
   "source": [
    "integral_f2 = -2 / np.sqrt(np.exp(1)) + 2"
   ]
  },
  {
   "cell_type": "code",
   "execution_count": 33,
   "metadata": {},
   "outputs": [],
   "source": [
    "def f2(x: float) -> float:\n",
    "    return np.exp(- np.abs(x - 0.5))"
   ]
  },
  {
   "cell_type": "code",
   "execution_count": 34,
   "metadata": {},
   "outputs": [
    {
     "name": "stdout",
     "output_type": "stream",
     "text": [
      "Error for m=0 (3 evaluations): 0.18040802086209973\n",
      "Error for m=1 (5 evaluations): 0.005442243324213392\n",
      "Error for m=2 (9 evaluations): 6.301527410990104e-09\n",
      "Error passed treshold 0.0001 at m=2 (9 evaluations)\n"
     ]
    }
   ],
   "source": [
    "treshold = 1e-4\n",
    "\n",
    "m = 0\n",
    "while True:\n",
    "    romberg_estimate = rombergs(f2, m, k=2, a=0, b=1)\n",
    "\n",
    "    error = np.abs(integral_f2 - romberg_estimate)\n",
    "\n",
    "    print(f\"Error for m={m} ({2**(m+1)+1} evaluations): {error}\")\n",
    "    if error < treshold:\n",
    "        print(f\"Error passed treshold {treshold} at m={m} ({2**(m+1)+1} evaluations)\")\n",
    "        break\n",
    "\n",
    "    m += 1"
   ]
  }
 ],
 "metadata": {
  "interpreter": {
   "hash": "a7e22f8db856ad4ec1d36a9c6f82b1e2dec0c46f11bded6b7330e952db637296"
  },
  "kernelspec": {
   "display_name": "Python 3.10.4 ('venv': venv)",
   "language": "python",
   "name": "python3"
  },
  "language_info": {
   "codemirror_mode": {
    "name": "ipython",
    "version": 3
   },
   "file_extension": ".py",
   "mimetype": "text/x-python",
   "name": "python",
   "nbconvert_exporter": "python",
   "pygments_lexer": "ipython3",
   "version": "3.10.4"
  },
  "orig_nbformat": 4
 },
 "nbformat": 4,
 "nbformat_minor": 2
}
