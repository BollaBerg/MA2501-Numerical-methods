{
 "cells": [
  {
   "cell_type": "markdown",
   "source": [
    "# Project 1\n",
    "### 8/10 perfect solutions required for full score\n",
    "\n",
    "These exercises should be done on a computer using Python. \tPlease submit a Jupyter-notebook, containing both your code and the report in the same file. Provide properly commented code.\n",
    "\n",
    "Some of the tasks involve sparse matrices, to obtain efficient code it is preferable to work with sparse matrices using for example the library `sparse` of  `scipy`. In these exercises you are allowed to work with full matrices if you find it easier, but make sure that the comparisons of the various methods in your implementations, e.g. when comparing running times, are fair. Be explicit about these issues in your report.\n",
    "\n",
    "**You will need an additional Python library for this project:** The library `autograd` will be used to compute the numerical Jacobian. You can install this with `pip install autograd`, `pip3 install autograd` or `conda install autograd` depending on your setup."
   ],
   "metadata": {}
  },
  {
   "cell_type": "code",
   "execution_count": 12,
   "source": [
    "import autograd.numpy as np\n",
    "from autograd import jacobian\n",
    "import matplotlib.pyplot as plt\n",
    "\n",
    "import decimal as dec\n",
    "import math"
   ],
   "outputs": [],
   "metadata": {}
  },
  {
   "cell_type": "code",
   "execution_count": 17,
   "source": [
    "# Set some default params\n",
    "plt.rcParams[\"figure.figsize\"] = (15, 10)"
   ],
   "outputs": [],
   "metadata": {}
  },
  {
   "cell_type": "markdown",
   "source": [
    "## 1 - Propagation of rounding errors\n",
    "The following exercise illustrates the effects of propagation of rounding errors in a numerical algorithm.\n",
    "\n",
    " \n",
    "We want to make a program to approximate the derivative of a differentiable function $f:\\mathbb{R} \\rightarrow \\mathbb{R}$. We use the following approximation called \"central difference\"\n",
    "\n",
    "$$f'(x)=\\frac{f(x+\\Delta x/2)-f(x-\\Delta x/2)}{\\Delta x}+\\mathcal{O}((\\Delta x)^2),\\qquad f'(x)\\approx \\frac{f(x+\\Delta x/2)-f(x-\\Delta x/2)}{\\Delta x}.$$\n",
    "\n",
    "1. Use a Taylor expansion to prove that the error given by this approximation is indeed $\\mathcal{O}((\\Delta x)^2)$. \n",
    "\n"
   ],
   "metadata": {}
  },
  {
   "cell_type": "markdown",
   "source": [
    "### Write your answer here ...\n",
    "Taylor's theorem states that\n",
    "$$\n",
    "    f(x) = \\sum_{k=0}^n \\frac{f^{(k)}(a)}{k!}(x - a)^k + R_k(x)\n",
    "$$\n",
    "Observe that $|R_k(x)| \\lt M \\frac{|x - a|^{k+1}}{(k + 1)!} = O((x - a)^{k+1})$, thus \n",
    "$$\n",
    "    f(x) = \\sum_{k=0}^n \\frac{f^{(k)}(a)}{k!}(x - a)^k + O((x - a)^{k+1})\n",
    "$$\n",
    "on some interval around constant $a$, if $f$ has $n + 1$ derivates in the interval. \n",
    "\n",
    "Replace constant $a$ with a selected value $x$ around which we want to prove the approximation error. Let $k = 2$. This gives\n",
    "$$\n",
    "\\begin{align*}\n",
    "    f(x + \\Delta x / 2) &= sum_{k=0}^2 \\frac{f^{(k)}(a)}{k!}(x - a)^k + O((x - a)^{3}) \\\\\n",
    "                        &= f(x) + f'(x)(x + \\Delta x / 2 - x) + \\frac{1}{2}f''(x)(x + \\Delta x / 2 - x)^2 + O((x + \\Delta x / 2 - x)^3) \\\\\n",
    "                        &= f(x) + f'(x)(\\Delta x / 2) + \\frac{1}{2}f''(x)(\\Delta x / 2)^2 + O((\\Delta x / 2)^3) \\\\\n",
    "    f(x - \\Delta x / 2) &= f(x) + f'(x)(x - \\Delta x / 2 - x) + \\frac{1}{2}f''(x)(x - \\Delta x / 2 - x)^2 + O((x - \\Delta x / 2 - x)^3) \\\\\n",
    "                        &= f(x) - f'(x)(\\Delta x / 2) + \\frac{1}{2}f''(x)(\\Delta x / 2)^2 - O((\\Delta x / 2)^3) \\\\\n",
    "\\end{align*}\n",
    "$$\n",
    "\n",
    "We now look at the difference given. Note that $O(nx) = O(x)$ for a constant $n$:\n",
    "$$\n",
    "\\begin{align}\n",
    "    f'(x) - \\frac{f(x+\\Delta x/2)-f(x-\\Delta x/2)}{\\Delta x} &= f'(x) - \\frac{f(x) + f'(x)(\\Delta x / 2) + \\frac{1}{2}f''(x)(\\Delta x / 2)^2 + O((\\Delta x / 2)^3) - (f(x) - f'(x)(\\Delta x / 2) + \\frac{1}{2}f''(x)(\\Delta x / 2)^2 - O((\\Delta x / 2)^3))}{\\Delta x} \\\\\n",
    "            &= f'(x) - \\frac{f(x) - f(x) + f'(x)(\\Delta x / 2) + f'(x)(\\Delta x / 2) + \\frac{1}{2}f''(x)(\\Delta x / 2)^2 - \\frac{1}{2}f''(x)(\\Delta x / 2)^2 + O((\\Delta x / 2)^3) + O((\\Delta x / 2)^3))}{\\Delta x} \\\\\n",
    "            &= f'(x) - \\frac{2*f'(x)(\\Delta x / 2) + 2*O((\\Delta x / 2)^3))}{\\Delta x} \\\\\n",
    "            &= f'(x) - \\frac{f'(x)(\\Delta x) + O((\\Delta x)^3))}{\\Delta x} \\\\\n",
    "            &= f'(x) - f'(x) + O((\\Delta x)^2)) \\\\\n",
    "            &= O((\\Delta x)^2)) \\\\\n",
    "\\end{align}\n",
    "$$"
   ],
   "metadata": {}
  },
  {
   "cell_type": "markdown",
   "source": [
    "We now take $f(x)=\\exp(-x^2)$, and use the formula above to approximate \n",
    "\n",
    "$$\\left.\\frac{d}{dx}\\exp (-x^2)\\right|_{x=\\frac{\\pi}{2}}.$$\n",
    "\n",
    "2. Make a simple Python program to compute the absolute error of the approximation for decreasing values of $\\Delta x$, e.g $\\Delta x=\\frac{1}{2^k}$ for $k=1,2,\\dots , N$, choosing a value of $N$ between $30$ and $40$.\n",
    "Plot the results (values of $\\Delta x$ versus the corresponding absolute error) in a logarithmic scale.\n",
    "\n"
   ],
   "metadata": {}
  },
  {
   "cell_type": "code",
   "execution_count": 45,
   "source": [
    "# Your code\n",
    "N = 40\n",
    "X = math.pi / 2\n",
    "errors = []\n",
    "deltas = []\n",
    "\n",
    "def f(x):\n",
    "    return math.exp(-(x**2))\n",
    "\n",
    "def f_derived(x):\n",
    "    return -2 * x * f(x)\n",
    "\n",
    "for k in range(1, N + 1):\n",
    "    delta_x = 1 / (2**k)\n",
    "    approximation = (f(X + delta_x/2) - f(X - delta_x/2)) / delta_x\n",
    "    actual = f_derived(X)\n",
    "    deltas.append(delta_x)\n",
    "    errors.append(abs(actual - approximation))\n",
    "\n",
    "plt.plot(deltas, errors)\n",
    "plt.xlabel(\"Delta x (decreasing)\")\n",
    "plt.ylabel(\"Absolute error\")\n",
    "plt.title(\"Absolute error vs delta x\")\n",
    "plt.xscale(\"log\")\n",
    "plt.yscale(\"log\")\n",
    "plt.gca().invert_xaxis()\n",
    "plt.show()\n",
    "\n"
   ],
   "outputs": [
    {
     "output_type": "display_data",
     "data": {
      "image/png": "[encoded data removed]",
      "text/plain": [
       "<Figure size 1080x720 with 1 Axes>"
      ]
     },
     "metadata": {
      "needs_background": "light"
     }
    }
   ],
   "metadata": {}
  },
  {
   "cell_type": "markdown",
   "source": [
    "You should see in your plot that for very small values of $\\Delta x$ the error starts to increase, compromising the convergence of the approximation method. This is due to the propagation of rounding error. The results improve if we can compute our formulae with a higher precision.\n",
    "\n",
    "3. In this exercise you should learn how to use the library `decimal` in Python in order to perform the calculations of the previous experiment with higher precision. \n",
    "Consider the same parameters used in the previous experiment ($\\Delta x=\\frac{1}{2^k}$ for $k=1,2,\\dots , N$ and same $N$ as above), increase the level of precision (look up `getcontext().prec` in the `decimal` library) and produce a plot which does not show the effects of propagation of rounding errors."
   ],
   "metadata": {}
  },
  {
   "cell_type": "code",
   "execution_count": 56,
   "source": [
    "# Your code\n",
    "dec.getcontext().prec = 40      # Increase for less rounding error\n",
    "\n",
    "X = dec.Decimal(math.pi / 2)\n",
    "errors = []\n",
    "deltas = []\n",
    "\n",
    "def f(x):\n",
    "    return (-x**2).exp()\n",
    "\n",
    "def f_derived(x):\n",
    "    return -2 * x * f(x)\n",
    "\n",
    "for k in range(1, N + 1):\n",
    "    delta_x = dec.Decimal(1 / (2**k))\n",
    "    approximation = (f(X + delta_x/2) - f(X - delta_x/2)) / delta_x\n",
    "    actual = f_derived(X)\n",
    "    deltas.append(delta_x)\n",
    "    errors.append(abs(actual - approximation))\n",
    "\n",
    "plt.plot(deltas, errors)\n",
    "plt.xlabel(\"Delta x (decreasing)\")\n",
    "plt.ylabel(\"Absolute error\")\n",
    "plt.title(\"Absolute error vs delta x\")\n",
    "plt.xscale(\"log\")\n",
    "plt.yscale(\"log\")\n",
    "plt.gca().invert_xaxis()\n",
    "plt.show()\n"
   ],
   "outputs": [
    {
     "output_type": "display_data",
     "data": {
      "image/png": "[encoded data removed]",
      "text/plain": [
       "<Figure size 1080x720 with 1 Axes>"
      ]
     },
     "metadata": {
      "needs_background": "light"
     }
    }
   ],
   "metadata": {}
  },
  {
   "cell_type": "markdown",
   "source": [
    "# 2 - Newton's method\n",
    "\n",
    "In this exercise, we will make use of the `autograd` package. As we have done at the start of this noteobook, when using this package you must `import` Numpy using `autograd.numpy`. We use the `jacobian` function, which approximates the jacobian of functions between Numpy arrays. See the following example.\n",
    "\n",
    "$$ F(x_1, x_2) = (x_1 + x_2, x_1x_2)$$"
   ],
   "metadata": {}
  },
  {
   "cell_type": "code",
   "execution_count": 58,
   "source": [
    "def F_0(x):\n",
    "    return np.array([x[0] + x[1], x[1]*x[0]])\n",
    "\n",
    "# Computing the numerical Jacobian\n",
    "DF = jacobian(F_0)\n",
    "# Testing our function\n",
    "x = np.array([3.0, 1.0])\n",
    "print(DF(x))"
   ],
   "outputs": [
    {
     "output_type": "stream",
     "name": "stdout",
     "text": [
      "[[1. 1.]\n",
      " [1. 3.]]\n"
     ]
    }
   ],
   "metadata": {}
  },
  {
   "cell_type": "markdown",
   "source": [
    "\n",
    "\n",
    "1. You are given the following function:\n",
    "$$\n",
    "    F(x_1, x_2) = (x_1 + x_1x_2 - 1, x_1^2 + x_2 + 3)\n",
    "$$\n",
    "  - Using the package `autograd` for automatic differentiation to compute Jacobians, create a function `newton` which implements Newton's method for systems of nonlinear equations $F(\\mathbf{x})=0$.\n",
    "  - Apply the method to $F$. These numerical experiments should give evidence that Newton's method converges for these two problems.\n",
    "  - Choose an initial value close enough in $\\infty$-norm to one solution of the system. Plot the values of $\\|\\mathbf{x}^{k+1}-\\mathbf{x}^k\\|_{\\infty}$ and $\\|F(\\mathbf{x}_k)\\|_{\\infty}$ for each iteration  $k=0,1,\\dots, K-1$ where $K$ is the total number of iterations (choose $K$ large enough to make a detailed plot). Use a semi-logarithmic scale on the y-axis (`semilogy` in matplotlib). \n",
    "  - Your answer is your code and a pair of figures with comments in text about what the figures show and what they can tell you about the convergence."
   ],
   "metadata": {}
  },
  {
   "cell_type": "code",
   "execution_count": 5,
   "source": [
    "# Your Newton's method implementation"
   ],
   "outputs": [],
   "metadata": {}
  },
  {
   "cell_type": "code",
   "execution_count": 6,
   "source": [
    "# Apply the method to F"
   ],
   "outputs": [],
   "metadata": {}
  },
  {
   "cell_type": "markdown",
   "source": [
    "2. Use the implemented Newton method and implement a stopping criterion.\n",
    "As stopping criterion, you should use a maximum number of iterations as well as two tolerances $TOL_1$ and $TOL_2$ such that the iteration is stopped whenever $\\|F(\\mathbf{x}^k)\\|_{\\infty}\\le TOL_1$ and $\\|\\mathbf{x}^{k+1}-\\mathbf{x}^k\\|_{\\infty}\\le TOL_2$. \n",
    "Provide numerical evidence that your code works as it should by  printing the values $\\|F(\\mathbf{x}^k)\\|_{\\infty}$ for each iteration , and making a plot of $\\|F(\\mathbf{x}^k)\\|_{\\infty}$, $\\|\\mathbf{x}^{k+1}-\\mathbf{x}^k\\|_{\\infty}$, for all $k$.\n",
    "\n"
   ],
   "metadata": {}
  },
  {
   "cell_type": "code",
   "execution_count": 7,
   "source": [
    "# Implement your method with a stopping criterion"
   ],
   "outputs": [],
   "metadata": {}
  },
  {
   "cell_type": "code",
   "execution_count": 8,
   "source": [
    "# Show your evidence"
   ],
   "outputs": [],
   "metadata": {}
  },
  {
   "cell_type": "markdown",
   "source": [
    "3. Use newtons method to make a function that calculates a n-th root of a matrix $A$. That is, a function that solves $X^n = A$.\n",
    "\n",
    "- Confirm numerically that your implementation is correct.\n",
    "\n",
    "**Hint**. Can you reinterpret the function $F(X) = X^n - A$ as a function between arrays? "
   ],
   "metadata": {}
  },
  {
   "cell_type": "code",
   "execution_count": 9,
   "source": [
    "# Your code here"
   ],
   "outputs": [],
   "metadata": {}
  },
  {
   "cell_type": "markdown",
   "source": [
    "4. Think of a good way of verifying numerically that the convergence of the Newton iteration is quadratic. \n",
    "- Your answer is the code that does the verification, the evidence it produces and an explanation of why it is evidence for quadratic convergence.\n",
    "\n",
    "**Hint**. You should consider a problem for which you know the solution or alternatively generate a reference solution (i.e. an approximation with *very* high accuracy). Use the definition of quadratic convergence. You can also compute the jacobian exactly (by hand) to eliminate the error from that part of the process."
   ],
   "metadata": {}
  },
  {
   "cell_type": "code",
   "execution_count": 10,
   "source": [
    "# Your Code Here"
   ],
   "outputs": [],
   "metadata": {}
  },
  {
   "cell_type": "markdown",
   "source": [
    "# 3 Linear systems -Poisson equation-\n",
    "We are going to numerically solve the following equation for $(x,y)\\in [0,1]^2$ with the Dirichlet boundary condition:\n",
    "\t$$\n",
    "\tu_{xx} + u_{yy}= f, \\text{and} \\;\\; u=0 {\\text{ for boundary}} \n",
    "\t$$\n",
    "    where $u_{xx}$ and $u_{yy}$ are the second order partial derivatives of the unknown function $u(x,y)$, and $f(x,y)$ is a given function. We discretize the above problem on the regular equispaced grid: $x_i=\\frac{i}{n+1}$,  and $y_j=\\frac{j}{n+1}$  with $i,j=1,...,n$ ($0$ and $n+1$ correspond to the boundary). \n",
    "    We use the following finite difference approximation\n",
    "    $$u_{xx}(x_i,y_j)+u_{yy}(x_i,y_j)\\approx\\frac{u(x_{i+1},y_j)-2u(x_{i},y_j)+u(x_{i-1},y_j)}{(\\Delta x)^2} +\\frac{u(x_i,y_{j+1})-2u(x_{i},y_{j})+u(x_i,y_{j-1})}{(\\Delta y)^2}.$$\n",
    "Note that we have $\\Delta x=\\Delta y=1/(n+1)$ here. Thus we consider the following linear system to approximate the above problem \n",
    "\t$$\n",
    "\t\\frac{1}{(\\Delta x)^2}A \\mathbf{u}  = \\mathbf{f},\n",
    "\t$$\n",
    "where the left hand side is a finite-difference discretization of $u_{xx} + u_{yy}$, the matrix $A$ is implemented in the code below, and $\\mathbf{f}$ is the discretized vector of function $\\mathbf{f}=(f(x_1,y_1),f(x_2,y_1),...,f(x_n,y_1),f(x_1,y_2),...,f(x_n,y_2),....,f(x_n,y_n))^{\\top}$, as well as $\\mathbf{u}=(u(x_1,y_1),u(x_2,y_1),...,u(x_n,y_1),u(x_1,y_2),...,u(x_n,y_2),....,u(x_n,y_n))^{\\top}$. "
   ],
   "metadata": {}
  },
  {
   "cell_type": "code",
   "execution_count": 11,
   "source": [
    "from scipy import sparse\n",
    "from scipy import linalg\n",
    "from scipy.sparse.linalg import eigs\n",
    "\n",
    "# Creating the matrix A.\n",
    "nx, ny = 10, 10\n",
    "m = nx*ny # number of x_i, y_i pairs\n",
    "main_diag = np.ones(m)*-4.0\n",
    "side_diag = np.ones(m-1)\n",
    "side_diag[np.arange(1,m)%nx==0] = 0\n",
    "side_diag2 = np.ones(m-nx)\n",
    "diagonals = [main_diag,side_diag,side_diag,side_diag2,side_diag2]\n",
    "Amatrix = sparse.diags(diagonals, [0, -1, 1,nx,-(nx)])\n",
    "\n",
    "print(Amatrix @ np.identity(m))"
   ],
   "outputs": [
    {
     "output_type": "error",
     "ename": "ModuleNotFoundError",
     "evalue": "No module named 'scipy'",
     "traceback": [
      "\u001b[0;31m---------------------------------------------------------------------------\u001b[0m",
      "\u001b[0;31mModuleNotFoundError\u001b[0m                       Traceback (most recent call last)",
      "Input \u001b[0;32mIn [11]\u001b[0m, in \u001b[0;36m<module>\u001b[0;34m\u001b[0m\n\u001b[0;32m----> 1\u001b[0m \u001b[38;5;28;01mfrom\u001b[39;00m \u001b[38;5;21;01mscipy\u001b[39;00m \u001b[38;5;28;01mimport\u001b[39;00m sparse\n\u001b[1;32m      2\u001b[0m \u001b[38;5;28;01mfrom\u001b[39;00m \u001b[38;5;21;01mscipy\u001b[39;00m \u001b[38;5;28;01mimport\u001b[39;00m linalg\n\u001b[1;32m      3\u001b[0m \u001b[38;5;28;01mfrom\u001b[39;00m \u001b[38;5;21;01mscipy\u001b[39;00m\u001b[38;5;21;01m.\u001b[39;00m\u001b[38;5;21;01msparse\u001b[39;00m\u001b[38;5;21;01m.\u001b[39;00m\u001b[38;5;21;01mlinalg\u001b[39;00m \u001b[38;5;28;01mimport\u001b[39;00m eigs\n",
      "\u001b[0;31mModuleNotFoundError\u001b[0m: No module named 'scipy'"
     ]
    }
   ],
   "metadata": {}
  },
  {
   "cell_type": "markdown",
   "source": [
    "We solve the linear system \n",
    "\t$$\n",
    "\tA \\mathbf{u}  = (\\Delta x)^2 \\mathbf{f},\n",
    "\t$$\n",
    "    in the following.\n",
    "For convenience, we introduce the following notation:\n",
    "\n",
    "- $A_d$ the diagonal part of $A$,\n",
    "- $A_l$ is **minus** the strictly lower-triangular part of $A$,\n",
    "- $A_u$ is **minus** the strictly upper-triangular part of $A$,\n",
    "\n",
    "with this notation, $A = A_d - A_l - A_u$.\n",
    "\n",
    "We will now approximate the solution of this linear system using three different iterative methods of the type \n",
    "\t$$\n",
    "\t\tM \\mathbf{u}^{(k+1)} = N \\mathbf{u}^{(k)}+(\\Delta x)^2\\mathbf{f},\n",
    "\t$$\n",
    "\twhere $A = M - N$ with $|M|\\ne0$. These methods are aslo known as splitting methods and  each choice of $M$ (and $N=M-A$) determines a different method.  We will use the following three iterative methods to calculate approximate solutions to $\\mathbf{u}$:\n",
    "\n",
    "a) Jacobi ($M = A_d$).\n",
    "\n",
    "b) Forward Gauss-Seidel ($M = A_d-A_l$).\n",
    "\n",
    "c) Successive over relaxation ($M = A_d-\\omega A_l$, where you can choose the value of $\\omega$).\n",
    "\n",
    "1. Create a function that implements the above iterative method. This function should take as input the matrix `A` and `M` such that you can use this function for all three methods above, and outputs the solution to the linear system `u`. Use the three methods to find the solution to the linear system with `n=nx=ny=10`, the initial guess $\\mathbf{u}^{(0)}=(1,1,...,1)^\\top\n",
    "$, and the function $f(x,y)=\\exp(-10(x-1/2)^2-10(y-1/2)^2)$. Confirm that what you obtain is indeed a solution numerically. Do not forget to multiply $(\\Delta x)^2$ with $\\mathbf{f}$.\n"
   ],
   "metadata": {}
  },
  {
   "cell_type": "code",
   "execution_count": null,
   "source": [
    "# Your Code - Create the function"
   ],
   "outputs": [],
   "metadata": {}
  },
  {
   "cell_type": "code",
   "execution_count": null,
   "source": [
    "# Use your function to solve the problem with each of the methods."
   ],
   "outputs": [],
   "metadata": {}
  },
  {
   "cell_type": "markdown",
   "source": [
    "2. Consider the residual vector $\\mathbf{r}^k:=\\mathbf{f}-A\\mathbf{u}^k$. We wish to compare the speed of convergence for each of the methods above. \n",
    "   - Produce a semi-log plot of the  $2$-norm of the relative residual  $\\frac{\\|\\mathbf{r}^k\\|_2}{\\|\\mathbf{r}^0\\|_2}$ versus the number of iterations. Plot all the methods in the same plot for comparison. \n",
    "   - Try choosing different values of $\\omega$ in the SOR method."
   ],
   "metadata": {}
  },
  {
   "cell_type": "code",
   "execution_count": null,
   "source": [
    "# Your code"
   ],
   "outputs": [],
   "metadata": {}
  }
 ],
 "metadata": {
  "kernelspec": {
   "name": "python3",
   "display_name": "Python 3.10.2 64-bit ('venv': venv)"
  },
  "language_info": {
   "codemirror_mode": {
    "name": "ipython",
    "version": 3
   },
   "file_extension": ".py",
   "mimetype": "text/x-python",
   "name": "python",
   "nbconvert_exporter": "python",
   "pygments_lexer": "ipython3",
   "version": "3.10.2"
  },
  "interpreter": {
   "hash": "8de06b123e68f7d006c85f88d659ace4b89c747f0b4e32eb186c3bd7f480e5a3"
  }
 },
 "nbformat": 4,
 "nbformat_minor": 4
}